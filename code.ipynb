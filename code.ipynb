{
 "cells": [
  {
   "cell_type": "code",
   "execution_count": null,
   "id": "7234b403-c6ed-475b-8c24-453921a333b1",
   "metadata": {},
   "outputs": [],
   "source": [
    "import pandas as pd"
   ]
  },
  {
   "cell_type": "code",
   "execution_count": null,
   "id": "4073da47-3709-4d18-9f4b-2e71d3ea8dbf",
   "metadata": {},
   "outputs": [],
   "source": [
    "pd.read_csv('data.csv', sep=',', index_col=False)"
   ]
  },
  {
   "cell_type": "code",
   "execution_count": null,
   "id": "13d77dcb-d649-419a-a725-db0f4463d45a",
   "metadata": {},
   "outputs": [],
   "source": [
    "from sklearn.ensemble import RandomForestClassifier\n",
    "clf = RandomForestClassifier(random_state=0)\n",
    "X = [[ 1,  2,  3], [11, 12, 13]]\n",
    "y = [0, 1]  # classes of each sample\n",
    "clf.fit(X, y)\n",
    "clf.predict(X)"
   ]
  },
  {
   "cell_type": "code",
   "execution_count": null,
   "id": "7d60b887-ff18-4b33-aabd-4faed5219c87",
   "metadata": {},
   "outputs": [],
   "source": [
    "import matplotlib.pyplot as plt\n",
    "import numpy as np\n",
    "import matplotlib.gridspec as gridspec\n",
    "\n",
    "fig = plt.figure(tight_layout=True)\n",
    "gs = gridspec.GridSpec(2, 2)\n",
    "\n",
    "ax = fig.add_subplot(gs[0, :])\n",
    "ax.plot(np.arange(0, 1e6, 1000))\n",
    "ax.set_ylabel('YLabel0')\n",
    "ax.set_xlabel('XLabel0')\n",
    "\n",
    "for i in range(2):\n",
    "    ax = fig.add_subplot(gs[1, i])\n",
    "    ax.plot(np.arange(1., 0., -0.1) * 2000., np.arange(1., 0., -0.1))\n",
    "    ax.set_ylabel('YLabel1 %d' % i)\n",
    "    ax.set_xlabel('XLabel1 %d' % i)\n",
    "    if i == 0:\n",
    "        for tick in ax.get_xticklabels():\n",
    "            tick.set_rotation(55)\n",
    "fig.align_labels()  # same as fig.align_xlabels(); fig.align_ylabels()\n",
    "\n",
    "plt.show()"
   ]
  }
 ],
 "metadata": {
  "kernelspec": {
   "display_name": "Python 3 (ipykernel)",
   "language": "python",
   "name": "python3"
  },
  "language_info": {
   "codemirror_mode": {
    "name": "ipython",
    "version": 3
   },
   "file_extension": ".py",
   "mimetype": "text/x-python",
   "name": "python",
   "nbconvert_exporter": "python",
   "pygments_lexer": "ipython3",
   "version": "3.10.4"
  }
 },
 "nbformat": 4,
 "nbformat_minor": 5
}
